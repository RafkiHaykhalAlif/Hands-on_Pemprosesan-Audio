{
  "cells": [
    {
      "cell_type": "markdown",
      "id": "71054319",
      "metadata": {
        "id": "71054319"
      },
      "source": [
        "# Tugas Analisis Multimedia: Audio, Gambar, Video\n",
        "\n",
        "**Mata Kuliah:** Sistem & Teknologi Multimedia  \n",
        "**Nama:** Rafki Haykhal Alif  \n",
        "**NIM:** 122140035  \n",
        "\n",
        "---\n",
        "\n",
        "## Deskripsi Tugas\n",
        "\n",
        "Tugas ini bertujuan untuk memahami representasi dasar data multimedia (audio, gambar, dan video) melalui praktik langsung memuat data, visualisasi, dan ekstraksi informasi fundamental. Anda akan bekerja dengan tiga jenis media berbeda untuk menganalisis karakteristik temporal (audio), spasial (gambar), dan spatio-temporal (video).\n",
        "\n",
        "Fokus tugas adalah pada pemahaman konsep dasar representasi multimedia dan kemampuan interpretasi hasil visualisasi, **bukan** pada manipulasi atau transformasi lanjutan data multimedia.\n",
        "\n",
        "---\n",
        "\n",
        "## ⚠️ CATATAN PENTING: PRESENTASI ACAK & KEJUJURAN AKADEMIK\n",
        "\n",
        "**Sebagian mahasiswa akan dipilih secara ACAK untuk presentasi singkat** (5-10 menit) menjelaskan kode dan interpretasi hasil mereka. Jika Anda:\n",
        "- Tidak mampu menjelaskan kode yang Anda kumpulkan\n",
        "- Hanya menyalin-tempel tanpa pemahaman\n",
        "- Bergantung sepenuhnya pada AI tanpa memahami konsep\n",
        "\n",
        "**Maka nilai tugas Anda akan diberikan 0 (nol).**\n",
        "\n",
        "Gunakan referensi dan AI sebagai alat bantu pembelajaran, tetapi pastikan Anda memahami setiap baris kode dan dapat menjelaskan logika di baliknya."
      ]
    },
    {
      "cell_type": "code",
      "execution_count": 1,
      "id": "649ad5d9",
      "metadata": {
        "colab": {
          "base_uri": "https://localhost:8080/"
        },
        "id": "649ad5d9",
        "outputId": "14d45819-f093-4c23-d97b-3a9d0f5bd0ac"
      },
      "outputs": [
        {
          "output_type": "stream",
          "name": "stdout",
          "text": [
            "Library versions:\n",
            "NumPy: 2.0.2\n",
            "Matplotlib: 3.10.0\n",
            "Librosa: 0.11.0\n",
            "OpenCV: 4.12.0\n"
          ]
        }
      ],
      "source": [
        "# Import Library (Satu-satunya sel kode dalam template ini)\n",
        "import numpy as np\n",
        "import matplotlib.pyplot as plt\n",
        "import matplotlib\n",
        "import librosa\n",
        "import soundfile as sf\n",
        "from PIL import Image\n",
        "import cv2\n",
        "from IPython.display import Audio, HTML, display\n",
        "import os\n",
        "\n",
        "# Set matplotlib untuk menampilkan plot inline\n",
        "%matplotlib inline\n",
        "\n",
        "# Tampilkan versi library untuk dokumentasi\n",
        "print(\"Library versions:\")\n",
        "print(f\"NumPy: {np.__version__}\")\n",
        "print(f\"Matplotlib: {matplotlib.__version__}\")\n",
        "print(f\"Librosa: {librosa.__version__}\")\n",
        "print(f\"OpenCV: {cv2.__version__}\")\n",
        "\n",
        "# Tambahkan import lain jika diperlukan saat mengerjakan tugas"
      ]
    },
    {
      "cell_type": "markdown",
      "id": "5aeb733a",
      "metadata": {
        "id": "5aeb733a"
      },
      "source": [
        "## Petunjuk Umum Pengerjaan\n",
        "\n",
        "### 📋 Cara Menggunakan Template\n",
        "- Gunakan notebook ini sebagai kerangka kerja utama\n",
        "- Tulis penjelasan (markdown) **SEBELUM** menaruh kode agar maksud dan tujuan jelas\n",
        "- Tambahkan sel kode di tempat yang sudah disediakan (tandai dengan TODO)\n",
        "- Semua plot/gambar harus diberi judul, label sumbu, dan keterangan singkat\n",
        "\n",
        "### 📊 Standar Visualisasi\n",
        "- Setiap plot harus memiliki judul yang deskriptif\n",
        "- Label sumbu X dan Y harus jelas\n",
        "- Gunakan colorbar untuk plot yang memerlukan skala warna\n",
        "- Berikan interpretasi singkat setelah setiap visualisasi\n",
        "\n",
        "### 📂 Struktur Data yang Direkomendasikan\n",
        "- Buat folder `data/` di direktori yang sama dengan notebook\n",
        "- Gunakan nama file yang deskriptif (contoh: `audio_musik_piano.wav`, `gambar_pemandangan_gunung.jpg`)\n",
        "- Dokumentasikan sumber data jika menggunakan dataset publik\n",
        "\n",
        "### ⚠️ Larangan\n",
        "- **Jangan** menaruh seluruh pekerjaan dalam satu sel kode yang sangat panjang\n",
        "- **Jangan** menempel hasil output tanpa interpretasi atau analisis\n",
        "- **Jangan** bergantung sepenuhnya pada AI - pahami dan kuasai kode Anda\n",
        "\n",
        "### 🎯 Persiapan Presentasi Acak\n",
        "- Pastikan Anda memahami setiap baris kode yang ditulis\n",
        "- Latih menjelaskan logika dan alur pemikiran Anda\n",
        "- Siapkan penjelasan untuk setiap visualisasi dan interpretasinya"
      ]
    },
    {
      "cell_type": "markdown",
      "id": "5561d95b",
      "metadata": {
        "id": "5561d95b"
      },
      "source": [
        "## Checklist Kelengkapan (Centang ✅ saat selesai)\n",
        "\n",
        "### 🎵 Bagian Audio\n",
        "- [✅] Muat audio dan tampilkan metadata (durasi, sample rate, jumlah kanal)\n",
        "- [✅] Tampilkan waveform dengan label sumbu yang jelas\n",
        "- [✅] Tampilkan spectrogram dalam skala log-dB dengan colorbar\n",
        "- [✅] Tampilkan MFCC (minimal 13 koefisien) sebagai heatmap\n",
        "- [✅] Berikan interpretasi dan analisis untuk setiap visualisasi audio\n",
        "\n",
        "### 🖼️ Bagian Gambar\n",
        "- [✅] Tampilkan gambar dengan benar dalam format RGB\n",
        "- [✅] Tampilkan informasi dasar (dimensi, jumlah kanal, dtype)\n",
        "- [✅] Tampilkan histogram warna untuk channel R, G, B\n",
        "- [✅] Berikan analisis hubungan histogram dengan kesan visual gambar\n",
        "\n",
        "### 📹 Bagian Video\n",
        "- [✅] Tampilkan metadata video (resolusi, fps, frame count, durasi)\n",
        "- [✅] Tampilkan 3 frame representatif (awal, tengah, akhir)\n",
        "- [✅] Konversi BGR ke RGB dengan benar untuk visualisasi\n",
        "- [✅] Analisis kesesuaian parameter video dengan use case\n",
        "\n",
        "### 📝 Analisis & Dokumentasi\n",
        "- [✅] Setiap bagian memiliki interpretasi dan analisis ringkas\n",
        "- [✅] Perbandingan representasi ketiga jenis media\n",
        "- [✅] Kesimpulan pembelajaran dan refleksi\n",
        "- [✅] Semua sumber data dan referensi dicantumkan"
      ]
    },
    {
      "cell_type": "markdown",
      "id": "a036de8f",
      "metadata": {
        "id": "a036de8f"
      },
      "source": [
        "# Pendahuluan\n",
        "\n",
        "## Apa itu Data Multimedia?\n",
        "\n",
        "Data multimedia adalah informasi yang dikodekan dalam berbagai format untuk merepresentasikan dunia nyata:\n",
        "\n",
        "- **Audio (1D)**: Sinyal satu dimensi yang berubah terhadap waktu\n",
        "  - Contoh: musik, suara, speech\n",
        "  - Representasi: amplitudo vs waktu\n",
        "  \n",
        "- **Gambar (2D)**: Matriks nilai intensitas dalam ruang dua dimensi\n",
        "  - Contoh: foto, ilustrasi, grafik\n",
        "  - Representasi: intensitas pixel pada koordinat (x,y)\n",
        "  \n",
        "- **Video (2D + Waktu)**: Rangkaian frame (gambar) yang ditampilkan berurutan\n",
        "  - Contoh: film, rekaman, animasi\n",
        "  - Representasi: frame berubah terhadap waktu dengan frame rate tertentu\n",
        "\n",
        "## Tujuan Tugas\n",
        "\n",
        "Memahami representasi dasar dan teknik visualisasi fundamental untuk setiap jenis media multimedia, termasuk:\n",
        "- Cara memuat dan membaca file multimedia\n",
        "- Ekstraksi informasi metadata yang penting\n",
        "- Visualisasi yang informatif dan mudah dipahami\n",
        "- Interpretasi hasil analisis secara kontekstual\n",
        "\n",
        "## Cara Kerja\n",
        "\n",
        "1. Isi setiap bagian sesuai instruksi yang diberikan\n",
        "2. Tambahkan sel kode di tempat yang ditandai dengan \"TODO\"\n",
        "3. Berikan interpretasi dan analisis setelah setiap visualisasi\n",
        "4. Pastikan semua plot memiliki judul, label, dan keterangan yang jelas"
      ]
    },
    {
      "cell_type": "markdown",
      "source": [
        "# Bagian A — Audio\n",
        "\n",
        "### A1. Deskripsi Data\n",
        "\n",
        "**TODO:** Jelaskan audio yang akan Anda analisis:\n",
        "- Jenis audio: Suara Mobil Ferrari\n",
        "- Sumber: https://pixabay.com/id/sound-effects/search/mobil/\n",
        "- Format file: WAV\n",
        "- Alasan pemilihan: Suara mobil ferrari memiliki karakteristik suara yang unik dibandingkan dengan suara mobil lain.\n",
        "\n",
        "**Path file:** `data/ferrari-testarossa.wav`\n",
        "\n",
        "---\n",
        "\n",
        "### A2. TODO: Muat & Metadata\n",
        "\n",
        "**Instruksi:**\n",
        "Tulis kode untuk memuat file audio dan menampilkan metadata dasar:\n",
        "- Sample rate (Hz)\n",
        "- Durasi (detik)\n",
        "- Jumlah kanal (mono/stereo)\n",
        "- Jumlah total sampel\n",
        "\n",
        "**Catatan:** Jika file MP3 bermasalah saat loading, gunakan format WAV sebagai alternatif.\n"
      ],
      "metadata": {
        "id": "Vv4hpJ8Fdfvx"
      },
      "id": "Vv4hpJ8Fdfvx"
    },
    {
      "cell_type": "code",
      "source": [
        "# Path file audio\n",
        "audio_path = '/data/ferrari-testarossa-sounds-384731.mp3'\n",
        "\n",
        "# Muat file audio dengan librosa\n",
        "y, sr = librosa.load(audio_path)\n",
        "\n",
        "# Ekstrak metadata\n",
        "duration = librosa.get_duration(y=y, sr=sr)\n",
        "num_channels = y.ndim\n",
        "total_samples = len(y)\n",
        "\n",
        "# Output metadata\n",
        "print(\"--- Metadata Audio ---\")\n",
        "print(f\"Sample Rate: {sr} Hz\")\n",
        "print(f\"Durasi: {duration:.2f} detik\")\n",
        "print(f\"Jumlah Kanal: {'Mono' if num_channels == 1 else 'Stereo'}\")\n",
        "print(f\"Jumlah Total Sampel: {total_samples}\")\n",
        "\n",
        "# Play audio\n",
        "display(Audio(data=y, rate=sr))"
      ],
      "metadata": {
        "colab": {
          "base_uri": "https://localhost:8080/",
          "height": 547
        },
        "id": "yKVgaDunCs30",
        "outputId": "3fb5e0a9-843f-489e-fd8e-ef596d20e841"
      },
      "id": "yKVgaDunCs30",
      "execution_count": 2,
      "outputs": [
        {
          "output_type": "stream",
          "name": "stderr",
          "text": [
            "/tmp/ipython-input-3826728006.py:5: UserWarning: PySoundFile failed. Trying audioread instead.\n",
            "  y, sr = librosa.load(audio_path)\n",
            "/usr/local/lib/python3.12/dist-packages/librosa/core/audio.py:184: FutureWarning: librosa.core.audio.__audioread_load\n",
            "\tDeprecated as of librosa version 0.10.0.\n",
            "\tIt will be removed in librosa version 1.0.\n",
            "  y, sr_native = __audioread_load(path, offset, duration, dtype)\n"
          ]
        },
        {
          "output_type": "error",
          "ename": "FileNotFoundError",
          "evalue": "[Errno 2] No such file or directory: '/data/ferrari-testarossa-sounds-384731.mp3'",
          "traceback": [
            "\u001b[0;31m---------------------------------------------------------------------------\u001b[0m",
            "\u001b[0;31mLibsndfileError\u001b[0m                           Traceback (most recent call last)",
            "\u001b[0;32m/usr/local/lib/python3.12/dist-packages/librosa/core/audio.py\u001b[0m in \u001b[0;36mload\u001b[0;34m(path, sr, mono, offset, duration, dtype, res_type)\u001b[0m\n\u001b[1;32m    175\u001b[0m         \u001b[0;32mtry\u001b[0m\u001b[0;34m:\u001b[0m\u001b[0;34m\u001b[0m\u001b[0;34m\u001b[0m\u001b[0m\n\u001b[0;32m--> 176\u001b[0;31m             \u001b[0my\u001b[0m\u001b[0;34m,\u001b[0m \u001b[0msr_native\u001b[0m \u001b[0;34m=\u001b[0m \u001b[0m__soundfile_load\u001b[0m\u001b[0;34m(\u001b[0m\u001b[0mpath\u001b[0m\u001b[0;34m,\u001b[0m \u001b[0moffset\u001b[0m\u001b[0;34m,\u001b[0m \u001b[0mduration\u001b[0m\u001b[0;34m,\u001b[0m \u001b[0mdtype\u001b[0m\u001b[0;34m)\u001b[0m\u001b[0;34m\u001b[0m\u001b[0;34m\u001b[0m\u001b[0m\n\u001b[0m\u001b[1;32m    177\u001b[0m \u001b[0;34m\u001b[0m\u001b[0m\n",
            "\u001b[0;32m/usr/local/lib/python3.12/dist-packages/librosa/core/audio.py\u001b[0m in \u001b[0;36m__soundfile_load\u001b[0;34m(path, offset, duration, dtype)\u001b[0m\n\u001b[1;32m    208\u001b[0m         \u001b[0;31m# Otherwise, create the soundfile object\u001b[0m\u001b[0;34m\u001b[0m\u001b[0;34m\u001b[0m\u001b[0m\n\u001b[0;32m--> 209\u001b[0;31m         \u001b[0mcontext\u001b[0m \u001b[0;34m=\u001b[0m \u001b[0msf\u001b[0m\u001b[0;34m.\u001b[0m\u001b[0mSoundFile\u001b[0m\u001b[0;34m(\u001b[0m\u001b[0mpath\u001b[0m\u001b[0;34m)\u001b[0m\u001b[0;34m\u001b[0m\u001b[0;34m\u001b[0m\u001b[0m\n\u001b[0m\u001b[1;32m    210\u001b[0m \u001b[0;34m\u001b[0m\u001b[0m\n",
            "\u001b[0;32m/usr/local/lib/python3.12/dist-packages/soundfile.py\u001b[0m in \u001b[0;36m__init__\u001b[0;34m(self, file, mode, samplerate, channels, subtype, endian, format, closefd, compression_level, bitrate_mode)\u001b[0m\n\u001b[1;32m    689\u001b[0m                                          format, subtype, endian)\n\u001b[0;32m--> 690\u001b[0;31m         \u001b[0mself\u001b[0m\u001b[0;34m.\u001b[0m\u001b[0m_file\u001b[0m \u001b[0;34m=\u001b[0m \u001b[0mself\u001b[0m\u001b[0;34m.\u001b[0m\u001b[0m_open\u001b[0m\u001b[0;34m(\u001b[0m\u001b[0mfile\u001b[0m\u001b[0;34m,\u001b[0m \u001b[0mmode_int\u001b[0m\u001b[0;34m,\u001b[0m \u001b[0mclosefd\u001b[0m\u001b[0;34m)\u001b[0m\u001b[0;34m\u001b[0m\u001b[0;34m\u001b[0m\u001b[0m\n\u001b[0m\u001b[1;32m    691\u001b[0m         \u001b[0;32mif\u001b[0m \u001b[0mset\u001b[0m\u001b[0;34m(\u001b[0m\u001b[0mmode\u001b[0m\u001b[0;34m)\u001b[0m\u001b[0;34m.\u001b[0m\u001b[0missuperset\u001b[0m\u001b[0;34m(\u001b[0m\u001b[0;34m'r+'\u001b[0m\u001b[0;34m)\u001b[0m \u001b[0;32mand\u001b[0m \u001b[0mself\u001b[0m\u001b[0;34m.\u001b[0m\u001b[0mseekable\u001b[0m\u001b[0;34m(\u001b[0m\u001b[0;34m)\u001b[0m\u001b[0;34m:\u001b[0m\u001b[0;34m\u001b[0m\u001b[0;34m\u001b[0m\u001b[0m\n",
            "\u001b[0;32m/usr/local/lib/python3.12/dist-packages/soundfile.py\u001b[0m in \u001b[0;36m_open\u001b[0;34m(self, file, mode_int, closefd)\u001b[0m\n\u001b[1;32m   1264\u001b[0m             \u001b[0merr\u001b[0m \u001b[0;34m=\u001b[0m \u001b[0m_snd\u001b[0m\u001b[0;34m.\u001b[0m\u001b[0msf_error\u001b[0m\u001b[0;34m(\u001b[0m\u001b[0mfile_ptr\u001b[0m\u001b[0;34m)\u001b[0m\u001b[0;34m\u001b[0m\u001b[0;34m\u001b[0m\u001b[0m\n\u001b[0;32m-> 1265\u001b[0;31m             \u001b[0;32mraise\u001b[0m \u001b[0mLibsndfileError\u001b[0m\u001b[0;34m(\u001b[0m\u001b[0merr\u001b[0m\u001b[0;34m,\u001b[0m \u001b[0mprefix\u001b[0m\u001b[0;34m=\u001b[0m\u001b[0;34m\"Error opening {0!r}: \"\u001b[0m\u001b[0;34m.\u001b[0m\u001b[0mformat\u001b[0m\u001b[0;34m(\u001b[0m\u001b[0mself\u001b[0m\u001b[0;34m.\u001b[0m\u001b[0mname\u001b[0m\u001b[0;34m)\u001b[0m\u001b[0;34m)\u001b[0m\u001b[0;34m\u001b[0m\u001b[0;34m\u001b[0m\u001b[0m\n\u001b[0m\u001b[1;32m   1266\u001b[0m         \u001b[0;32mif\u001b[0m \u001b[0mmode_int\u001b[0m \u001b[0;34m==\u001b[0m \u001b[0m_snd\u001b[0m\u001b[0;34m.\u001b[0m\u001b[0mSFM_WRITE\u001b[0m\u001b[0;34m:\u001b[0m\u001b[0;34m\u001b[0m\u001b[0;34m\u001b[0m\u001b[0m\n",
            "\u001b[0;31mLibsndfileError\u001b[0m: Error opening '/data/ferrari-testarossa-sounds-384731.mp3': System error.",
            "\nDuring handling of the above exception, another exception occurred:\n",
            "\u001b[0;31mFileNotFoundError\u001b[0m                         Traceback (most recent call last)",
            "\u001b[0;32m/tmp/ipython-input-3826728006.py\u001b[0m in \u001b[0;36m<cell line: 0>\u001b[0;34m()\u001b[0m\n\u001b[1;32m      3\u001b[0m \u001b[0;34m\u001b[0m\u001b[0m\n\u001b[1;32m      4\u001b[0m \u001b[0;31m# Muat file audio dengan librosa\u001b[0m\u001b[0;34m\u001b[0m\u001b[0;34m\u001b[0m\u001b[0m\n\u001b[0;32m----> 5\u001b[0;31m \u001b[0my\u001b[0m\u001b[0;34m,\u001b[0m \u001b[0msr\u001b[0m \u001b[0;34m=\u001b[0m \u001b[0mlibrosa\u001b[0m\u001b[0;34m.\u001b[0m\u001b[0mload\u001b[0m\u001b[0;34m(\u001b[0m\u001b[0maudio_path\u001b[0m\u001b[0;34m)\u001b[0m\u001b[0;34m\u001b[0m\u001b[0;34m\u001b[0m\u001b[0m\n\u001b[0m\u001b[1;32m      6\u001b[0m \u001b[0;34m\u001b[0m\u001b[0m\n\u001b[1;32m      7\u001b[0m \u001b[0;31m# Ekstrak metadata\u001b[0m\u001b[0;34m\u001b[0m\u001b[0;34m\u001b[0m\u001b[0m\n",
            "\u001b[0;32m/usr/local/lib/python3.12/dist-packages/librosa/core/audio.py\u001b[0m in \u001b[0;36mload\u001b[0;34m(path, sr, mono, offset, duration, dtype, res_type)\u001b[0m\n\u001b[1;32m    182\u001b[0m                     \u001b[0;34m\"PySoundFile failed. Trying audioread instead.\"\u001b[0m\u001b[0;34m,\u001b[0m \u001b[0mstacklevel\u001b[0m\u001b[0;34m=\u001b[0m\u001b[0;36m2\u001b[0m\u001b[0;34m\u001b[0m\u001b[0;34m\u001b[0m\u001b[0m\n\u001b[1;32m    183\u001b[0m                 )\n\u001b[0;32m--> 184\u001b[0;31m                 \u001b[0my\u001b[0m\u001b[0;34m,\u001b[0m \u001b[0msr_native\u001b[0m \u001b[0;34m=\u001b[0m \u001b[0m__audioread_load\u001b[0m\u001b[0;34m(\u001b[0m\u001b[0mpath\u001b[0m\u001b[0;34m,\u001b[0m \u001b[0moffset\u001b[0m\u001b[0;34m,\u001b[0m \u001b[0mduration\u001b[0m\u001b[0;34m,\u001b[0m \u001b[0mdtype\u001b[0m\u001b[0;34m)\u001b[0m\u001b[0;34m\u001b[0m\u001b[0;34m\u001b[0m\u001b[0m\n\u001b[0m\u001b[1;32m    185\u001b[0m             \u001b[0;32melse\u001b[0m\u001b[0;34m:\u001b[0m\u001b[0;34m\u001b[0m\u001b[0;34m\u001b[0m\u001b[0m\n\u001b[1;32m    186\u001b[0m                 \u001b[0;32mraise\u001b[0m \u001b[0mexc\u001b[0m\u001b[0;34m\u001b[0m\u001b[0;34m\u001b[0m\u001b[0m\n",
            "\u001b[0;32m<decorator-gen-122>\u001b[0m in \u001b[0;36m__audioread_load\u001b[0;34m(path, offset, duration, dtype)\u001b[0m\n",
            "\u001b[0;32m/usr/local/lib/python3.12/dist-packages/librosa/util/decorators.py\u001b[0m in \u001b[0;36m__wrapper\u001b[0;34m(func, *args, **kwargs)\u001b[0m\n\u001b[1;32m     61\u001b[0m             \u001b[0mstacklevel\u001b[0m\u001b[0;34m=\u001b[0m\u001b[0;36m3\u001b[0m\u001b[0;34m,\u001b[0m  \u001b[0;31m# Would be 2, but the decorator adds a level\u001b[0m\u001b[0;34m\u001b[0m\u001b[0;34m\u001b[0m\u001b[0m\n\u001b[1;32m     62\u001b[0m         )\n\u001b[0;32m---> 63\u001b[0;31m         \u001b[0;32mreturn\u001b[0m \u001b[0mfunc\u001b[0m\u001b[0;34m(\u001b[0m\u001b[0;34m*\u001b[0m\u001b[0margs\u001b[0m\u001b[0;34m,\u001b[0m \u001b[0;34m**\u001b[0m\u001b[0mkwargs\u001b[0m\u001b[0;34m)\u001b[0m\u001b[0;34m\u001b[0m\u001b[0;34m\u001b[0m\u001b[0m\n\u001b[0m\u001b[1;32m     64\u001b[0m \u001b[0;34m\u001b[0m\u001b[0m\n\u001b[1;32m     65\u001b[0m     \u001b[0;32mreturn\u001b[0m \u001b[0mdecorator\u001b[0m\u001b[0;34m(\u001b[0m\u001b[0m__wrapper\u001b[0m\u001b[0;34m)\u001b[0m\u001b[0;34m\u001b[0m\u001b[0;34m\u001b[0m\u001b[0m\n",
            "\u001b[0;32m/usr/local/lib/python3.12/dist-packages/librosa/core/audio.py\u001b[0m in \u001b[0;36m__audioread_load\u001b[0;34m(path, offset, duration, dtype)\u001b[0m\n\u001b[1;32m    238\u001b[0m     \u001b[0;32melse\u001b[0m\u001b[0;34m:\u001b[0m\u001b[0;34m\u001b[0m\u001b[0;34m\u001b[0m\u001b[0m\n\u001b[1;32m    239\u001b[0m         \u001b[0;31m# If the input was not an audioread object, try to open it\u001b[0m\u001b[0;34m\u001b[0m\u001b[0;34m\u001b[0m\u001b[0m\n\u001b[0;32m--> 240\u001b[0;31m         \u001b[0mreader\u001b[0m \u001b[0;34m=\u001b[0m \u001b[0maudioread\u001b[0m\u001b[0;34m.\u001b[0m\u001b[0maudio_open\u001b[0m\u001b[0;34m(\u001b[0m\u001b[0mpath\u001b[0m\u001b[0;34m)\u001b[0m\u001b[0;34m\u001b[0m\u001b[0;34m\u001b[0m\u001b[0m\n\u001b[0m\u001b[1;32m    241\u001b[0m \u001b[0;34m\u001b[0m\u001b[0m\n\u001b[1;32m    242\u001b[0m     \u001b[0;32mwith\u001b[0m \u001b[0mreader\u001b[0m \u001b[0;32mas\u001b[0m \u001b[0minput_file\u001b[0m\u001b[0;34m:\u001b[0m\u001b[0;34m\u001b[0m\u001b[0;34m\u001b[0m\u001b[0m\n",
            "\u001b[0;32m/usr/local/lib/python3.12/dist-packages/audioread/__init__.py\u001b[0m in \u001b[0;36maudio_open\u001b[0;34m(path, backends)\u001b[0m\n\u001b[1;32m    125\u001b[0m     \u001b[0;32mfor\u001b[0m \u001b[0mBackendClass\u001b[0m \u001b[0;32min\u001b[0m \u001b[0mbackends\u001b[0m\u001b[0;34m:\u001b[0m\u001b[0;34m\u001b[0m\u001b[0;34m\u001b[0m\u001b[0m\n\u001b[1;32m    126\u001b[0m         \u001b[0;32mtry\u001b[0m\u001b[0;34m:\u001b[0m\u001b[0;34m\u001b[0m\u001b[0;34m\u001b[0m\u001b[0m\n\u001b[0;32m--> 127\u001b[0;31m             \u001b[0;32mreturn\u001b[0m \u001b[0mBackendClass\u001b[0m\u001b[0;34m(\u001b[0m\u001b[0mpath\u001b[0m\u001b[0;34m)\u001b[0m\u001b[0;34m\u001b[0m\u001b[0;34m\u001b[0m\u001b[0m\n\u001b[0m\u001b[1;32m    128\u001b[0m         \u001b[0;32mexcept\u001b[0m \u001b[0mDecodeError\u001b[0m\u001b[0;34m:\u001b[0m\u001b[0;34m\u001b[0m\u001b[0;34m\u001b[0m\u001b[0m\n\u001b[1;32m    129\u001b[0m             \u001b[0;32mpass\u001b[0m\u001b[0;34m\u001b[0m\u001b[0;34m\u001b[0m\u001b[0m\n",
            "\u001b[0;32m/usr/local/lib/python3.12/dist-packages/audioread/rawread.py\u001b[0m in \u001b[0;36m__init__\u001b[0;34m(self, filename)\u001b[0m\n\u001b[1;32m     57\u001b[0m     \"\"\"\n\u001b[1;32m     58\u001b[0m     \u001b[0;32mdef\u001b[0m \u001b[0m__init__\u001b[0m\u001b[0;34m(\u001b[0m\u001b[0mself\u001b[0m\u001b[0;34m,\u001b[0m \u001b[0mfilename\u001b[0m\u001b[0;34m)\u001b[0m\u001b[0;34m:\u001b[0m\u001b[0;34m\u001b[0m\u001b[0;34m\u001b[0m\u001b[0m\n\u001b[0;32m---> 59\u001b[0;31m         \u001b[0mself\u001b[0m\u001b[0;34m.\u001b[0m\u001b[0m_fh\u001b[0m \u001b[0;34m=\u001b[0m \u001b[0mopen\u001b[0m\u001b[0;34m(\u001b[0m\u001b[0mfilename\u001b[0m\u001b[0;34m,\u001b[0m \u001b[0;34m'rb'\u001b[0m\u001b[0;34m)\u001b[0m\u001b[0;34m\u001b[0m\u001b[0;34m\u001b[0m\u001b[0m\n\u001b[0m\u001b[1;32m     60\u001b[0m \u001b[0;34m\u001b[0m\u001b[0m\n\u001b[1;32m     61\u001b[0m         \u001b[0;32mtry\u001b[0m\u001b[0;34m:\u001b[0m\u001b[0;34m\u001b[0m\u001b[0;34m\u001b[0m\u001b[0m\n",
            "\u001b[0;31mFileNotFoundError\u001b[0m: [Errno 2] No such file or directory: '/data/ferrari-testarossa-sounds-384731.mp3'"
          ]
        }
      ]
    },
    {
      "cell_type": "markdown",
      "source": [
        "---"
      ],
      "metadata": {
        "id": "_6u5ahVTgSBH"
      },
      "id": "_6u5ahVTgSBH"
    },
    {
      "cell_type": "markdown",
      "source": [
        "### A3. TODO: Waveform\n",
        "\n",
        "**Instruksi:**\n",
        "Plot waveform audio dengan:\n",
        "- Sumbu X: waktu (detik)\n",
        "- Sumbu Y: amplitudo\n",
        "- Judul dan label sumbu yang jelas\n",
        "\n",
        "**Analisis yang diperlukan:**\n",
        "Jelaskan apa yang Anda lihat dari waveform (pola amplitudo, bagian keras/pelan, dll.)"
      ],
      "metadata": {
        "id": "mYSQm6qIftsB"
      },
      "id": "mYSQm6qIftsB"
    },
    {
      "cell_type": "code",
      "source": [
        "# Plot waveform\n",
        "plt.figure(figsize=(14, 5))\n",
        "librosa.display.waveshow(y, sr=sr)\n",
        "plt.title('Waveform Audio')\n",
        "plt.xlabel('Waktu (detik)')\n",
        "plt.ylabel('Amplitudo')\n",
        "plt.grid(True)\n",
        "plt.show()"
      ],
      "metadata": {
        "id": "DGxIN17dGSrv"
      },
      "id": "DGxIN17dGSrv",
      "execution_count": null,
      "outputs": []
    },
    {
      "cell_type": "markdown",
      "source": [
        "**Analisis Waveform :**\n",
        "\n",
        "Dari waveform suara mobil yang dihasilkan bisa dilihat bahwa pada 10 detik awal nilai amplitudo yang dihasilkan kecil yang menandakan volume suara nya kecil dan di detik 12 keatas amplitudonya bernilai besar yang menandakan mobil berkecepatan tinggi pada detik 12 keatas karena menghasilkan suara yang besar. Nilai amplitude mengecil lagi pada detik 42 keatas yang menandakan mobil sudah berhenti.\n",
        "\n",
        "---"
      ],
      "metadata": {
        "id": "OxoDpAalXFpZ"
      },
      "id": "OxoDpAalXFpZ"
    },
    {
      "cell_type": "markdown",
      "source": [
        "### A4. TODO: Spectrogram log-dB\n",
        "\n",
        "**Instruksi:**\n",
        "Hitung STFT dan tampilkan spectrogram dalam skala log-dB:\n",
        "- Gunakan parameter standar (n_fft=1024, hop_length=256)\n",
        "- Tampilkan dengan colorbar\n",
        "- Label sumbu: waktu (detik) dan frekuensi (Hz)\n",
        "\n",
        "**Analisis yang diperlukan:**\n",
        "Jelaskan perbedaan informasi yang didapat dari spectrogram dibanding waveform."
      ],
      "metadata": {
        "id": "4-YpUWz2f61n"
      },
      "id": "4-YpUWz2f61n"
    },
    {
      "cell_type": "code",
      "source": [
        "# Hitung STFT\n",
        "D = librosa.stft(y, n_fft=1024, hop_length=256)\n",
        "\n",
        "# Konversi ke skala log-dB\n",
        "S_db = librosa.amplitude_to_db(np.abs(D), ref=np.max)\n",
        "\n",
        "# Tampilkan spectrogram\n",
        "plt.figure(figsize=(14, 5))\n",
        "librosa.display.specshow(S_db, sr=sr, x_axis='time', y_axis='log', hop_length=256)\n",
        "plt.colorbar(format='%+2.0f dB', label='Intensitas (dB)')\n",
        "plt.title('Spectrogram (Log-dB Scale)')\n",
        "plt.xlabel('Waktu (detik)')\n",
        "plt.ylabel('Frekuensi (Hz)')\n",
        "plt.show()"
      ],
      "metadata": {
        "id": "PfRdjfyPGdZx"
      },
      "id": "PfRdjfyPGdZx",
      "execution_count": null,
      "outputs": []
    },
    {
      "cell_type": "markdown",
      "source": [
        "**Analisis Perbedaan waveform dan spectrogram :**\n",
        "\n",
        "Perbedaan antara waveform dan spectrogram pada suara mobil terlihat jelas dalam cara informasi ditampilkan. Waveform hanya menunjukkan perubahan amplitudo dari waktu ke waktu, sehingga bisa melihat kapan suara mobil terdengar pelan, semakin keras ketika berakselerasi, lalu mengecil kembali saat berhenti. Namun, waveform tidak memperlihatkan detail frekuensi suara mesin mobil. Sebaliknya, spectrogram menampilkan distribusi frekuensi terhadap waktu, sehingga pola getaran khas mesin mobil (frekuensi rendah yang dominan saat idle, lalu muncul komponen frekuensi lebih tinggi saat akselerasi) bisa terlihat dengan jelas. Jadi, waveform membantu memahami dinamika volume suara mobil, sementara spectrogram memberikan gambaran lebih rinci tentang karakteristik frekuensinya.\n",
        "\n",
        "---"
      ],
      "metadata": {
        "id": "-RVHh7nrY8zg"
      },
      "id": "-RVHh7nrY8zg"
    },
    {
      "cell_type": "markdown",
      "source": [
        "### A5. TODO: MFCC\n",
        "\n",
        "**Instruksi:**\n",
        "Hitung dan tampilkan minimal 13 koefisien MFCC sebagai heatmap:\n",
        "- Sumbu X: waktu (frame)\n",
        "- Sumbu Y: koefisien MFCC (1-13)\n",
        "- Gunakan colorbar dan judul yang jelas\n",
        "\n",
        "**Analisis yang diperlukan:**\n",
        "Interpretasi sederhana: apakah pola MFCC stabil atau berubah-ubah? Apa potensi maknanya?"
      ],
      "metadata": {
        "id": "Wb4irzATgHwm"
      },
      "id": "Wb4irzATgHwm"
    },
    {
      "cell_type": "code",
      "source": [
        "# Hitung MFCC\n",
        "mfccs = librosa.feature.mfcc(y=y, sr=sr, n_mfcc=13)\n",
        "\n",
        "# Tampilkan MFCC sebagai heatmap\n",
        "plt.figure(figsize=(14, 5))\n",
        "librosa.display.specshow(mfccs, x_axis='time')\n",
        "plt.colorbar(label='Amplitude')\n",
        "plt.title('Mel-Frequency Cepstral Coefficients (MFCC)')\n",
        "plt.xlabel('Waktu (frame)')\n",
        "plt.ylabel('Koefisien MFCC')\n",
        "plt.show()"
      ],
      "metadata": {
        "id": "AcCr8VIrGrNR"
      },
      "id": "AcCr8VIrGrNR",
      "execution_count": null,
      "outputs": []
    },
    {
      "cell_type": "markdown",
      "source": [
        "**Analisis MFCC :**\n",
        "\n",
        "Dari hasil visualisasi MFCC, terlihat bahwa pola koefisien relatif stabil dengan perubahan yang tidak terlalu drastis sepanjang waktu, meskipun ada sedikit variasi pada beberapa bagian. Stabilitas ini menunjukkan bahwa karakteristik suara mobil cenderung konsisten, sesuai dengan suara mesin yang menghasilkan bunyi berulang dan teratur. Namun, variasi kecil pada pola MFCC menandakan adanya perubahan kondisi, misalnya saat mobil berakselerasi, melambat, atau berhenti.\n",
        "\n",
        "---"
      ],
      "metadata": {
        "id": "4GaFBvDlaAbZ"
      },
      "id": "4GaFBvDlaAbZ"
    },
    {
      "cell_type": "markdown",
      "id": "47ce8300",
      "metadata": {
        "id": "47ce8300"
      },
      "source": [
        "### A6. Analisis Ringkas (Wajib)\n",
        "\n",
        "**Jawab pertanyaan berikut:**\n",
        "\n",
        "1. **Perbedaan insight:** Apa perbedaan informasi yang didapat dari waveform versus spectrogram?\n",
        "\n",
        "   *Jawaban Anda:* Waveform menampilkan perubahan amplitudo terhadap waktu sehingga lebih menekankan pada dinamika volume suara mobil, misalnya kapan suara terdengar pelan, keras, atau mereda. Sementara itu, spectrogram memberikan informasi tambahan berupa distribusi frekuensi terhadap waktu dengan intensitas tertentu. Dari spectrogram dapat terlihat bagaimana frekuensi rendah hingga tinggi muncul selama mobil berakselerasi maupun saat berhenti, sehingga memberikan gambaran yang lebih detail tentang karakteristik suara mesin dibandingkan waveform.\n",
        "\n",
        "2. **Pembelajaran dari MFCC:** Apa yang Anda pelajari dari visualisasi MFCC audio ini?\n",
        "\n",
        "   *Jawaban Anda:* Visualisasi MFCC menunjukkan pola koefisien yang relatif stabil dengan sedikit variasi, menandakan bahwa suara mobil memiliki karakteristik spektral yang konsisten sesuai dengan bunyi mesin yang ritmis. Variasi kecil pada MFCC menggambarkan perubahan kondisi seperti akselerasi atau perlambatan. Hal ini menunjukkan bahwa MFCC efektif digunakan untuk menangkap ciri khas suara mesin mobil yang bisa dijadikan fitur dalam analisis lebih lanjut, misalnya untuk identifikasi atau klasifikasi suara kendaraan."
      ]
    },
    {
      "cell_type": "markdown",
      "source": [
        "# Bagian B — Gambar\n",
        "\n",
        "### B1. Deskripsi Data\n",
        "\n",
        "**TODO:** Jelaskan gambar yang akan Anda analisis:\n",
        "- Jenis gambar: Pemandangan sunset di tepi laut.\n",
        "- Sumber: Foto sendiri\n",
        "- Format file: jpg\n",
        "- Alasan pemilihan: Pemandangan sunset memiliki kombinasi warna antara terang dan gelap.\n",
        "\n",
        "**Path file:** `data/sunset.jpg\n",
        "\n",
        "---\n",
        "\n",
        "### B2. TODO: Baca & Tampilkan (RGB)\n",
        "\n",
        "**Instruksi:**\n",
        "Baca gambar dan tampilkan dengan benar dalam format RGB:\n",
        "- Pastikan konversi warna benar (ingat perbedaan BGR vs RGB di OpenCV)\n",
        "- Berikan judul yang deskriptif\n",
        "- Hilangkan axis untuk tampilan yang bersih\n",
        "\n",
        "**Analisis yang diperlukan:**\n",
        "Jelaskan gambar secara ringkas (objek dominan, kondisi pencahayaan, komposisi warna)."
      ],
      "metadata": {
        "id": "-mKrdCPlhVL9"
      },
      "id": "-mKrdCPlhVL9"
    },
    {
      "cell_type": "code",
      "source": [
        "# Path file gambar\n",
        "image_path = '/data/sunset.jpg'\n",
        "\n",
        "# Baca gambar dengan OpenCV\n",
        "img_bgr = cv2.imread(image_path)\n",
        "\n",
        "# Periksa apakah gambar berhasil dibaca sebelum konversi\n",
        "if img_bgr is None:\n",
        "    print(f\"Error: Gagal membaca gambar dari {image_path}. Pastikan file ada dan path benar.\")\n",
        "else:\n",
        "    # Konversi dari BGR ke RGB\n",
        "    img_rgb = cv2.cvtColor(img_bgr, cv2.COLOR_BGR2RGB)\n",
        "\n",
        "    # Tampilkan gambar\n",
        "    plt.figure(figsize=(8, 6))\n",
        "    plt.imshow(img_rgb)\n",
        "    plt.title('Gambar Pemandangan Sunset di Tepi Pantai')\n",
        "    plt.axis('off') # Hilangkan sumbu x dan y\n",
        "    plt.show()"
      ],
      "metadata": {
        "id": "SODKbpuZH6S_"
      },
      "id": "SODKbpuZH6S_",
      "execution_count": null,
      "outputs": []
    },
    {
      "cell_type": "markdown",
      "source": [
        "**Analisi Gambar :**\n",
        "\n",
        "Gambar pemandangan sunset di tepi pantai ini menunjukkan bahwa objek dominan dalam foto adalah matahari yang hampir tenggelam di ujung laut dengan siluet perahu di bagian bawah gambar, memberikan fokus utama pada suasana sore hari. Kondisi pencahayaan terlihat alami dengan cahaya matahari keemasan yang menyinari langit, menciptakan efek siluet pada objek di depannya. Komposisi warna didominasi oleh gradasi oranye, kuning, dan emas di sekitar matahari, berpadu dengan biru keabu-abuan pada langit serta hitam gelap pada perahu dan garis pantai.\n",
        "\n",
        "---"
      ],
      "metadata": {
        "id": "iPIBw8amhiiE"
      },
      "id": "iPIBw8amhiiE"
    },
    {
      "cell_type": "markdown",
      "source": [
        "### B3. TODO: Informasi Dasar\n",
        "\n",
        "**Instruksi:**\n",
        "Tampilkan informasi metadata gambar:\n",
        "- Dimensi (Height × Width)\n",
        "- Jumlah kanal\n",
        "- Tipe data (dtype)\n",
        "- Mode warna (jika relevan)\n",
        "- Ukuran file dalam memori\n",
        "\n",
        "**Analisis yang diperlukan:**\n",
        "Jelaskan mengapa informasi ini penting untuk tahap preprocessing atau analisis lanjutan."
      ],
      "metadata": {
        "id": "Y8asZ5B8ii49"
      },
      "id": "Y8asZ5B8ii49"
    },
    {
      "cell_type": "code",
      "source": [
        "# Ekstrak informasi dasar\n",
        "height, width, channels = img_rgb.shape\n",
        "dtype = img_rgb.dtype\n",
        "size_in_memory = img_rgb.nbytes / 1024 # dalam KB\n",
        "\n",
        "# Tampilkan informasi\n",
        "print(\"--- Informasi Dasar Gambar ---\")\n",
        "print(f\"Dimensi: {height} x {width} piksel\")\n",
        "print(f\"Jumlah Kanal: {channels}\")\n",
        "print(f\"Tipe Data (dtype): {dtype}\")\n",
        "print(f\"Mode Warna: RGB\")\n",
        "print(f\"Ukuran di Memori: {size_in_memory:.2f} KB\")"
      ],
      "metadata": {
        "id": "YM-bXKfoJghv"
      },
      "id": "YM-bXKfoJghv",
      "execution_count": null,
      "outputs": []
    },
    {
      "cell_type": "markdown",
      "source": [
        "**Analisis informasi dasar gambar :**\n",
        "\n",
        "Informasi dasar gambar seperti dimensi (4032 × 3024 piksel), jumlah kanal (3 untuk RGB), tipe data (uint8), serta ukuran memori sangat penting pada tahap preprocessing maupun analisis lanjutan. Dengan mengetahui dimensi, sehingga dapat menyesuaikan ukuran gambar (resize) agar lebih efisien untuk pemrosesan. Jumlah kanal menunjukkan mode warna yang dipakai, sehingga mengetahui apakah gambar perlu dikonversi (misalnya ke grayscale). Tipe data menentukan bagaimana nilai piksel diolah, apakah perlu normalisasi atau konversi tipe agar sesuai dengan algoritma. Sementara ukuran memori membantu memperkirakan kebutuhan komputasi dan penyimpanan, terutama saat menangani dataset gambar dalam jumlah besar. Semua informasi ini menjadi dasar dalam menentukan langkah preprocessing yang optimal sebelum analisis lebih lanjut.\n",
        "\n",
        "---"
      ],
      "metadata": {
        "id": "gvJo4yJUiqV6"
      },
      "id": "gvJo4yJUiqV6"
    },
    {
      "cell_type": "markdown",
      "source": [
        "### B4. TODO: Histogram Warna\n",
        "\n",
        "**Instruksi:**\n",
        "Tampilkan histogram distribusi intensitas untuk channel R, G, B:\n",
        "- Range: 0-255\n",
        "- Plot terpisah atau overlay dengan warna sesuai channel\n",
        "- Label sumbu: intensitas pixel dan frekuensi\n",
        "- Legend yang jelas\n",
        "\n",
        "**Analisis yang diperlukan:**\n",
        "Analisis: channel mana yang dominan? Bagaimana kontras gambar? Seperti apa sebaran intensitasnya?"
      ],
      "metadata": {
        "id": "6eJu1qUNkIAx"
      },
      "id": "6eJu1qUNkIAx"
    },
    {
      "cell_type": "markdown",
      "source": [],
      "metadata": {
        "id": "fNsL_0fRkFXB"
      },
      "id": "fNsL_0fRkFXB"
    },
    {
      "cell_type": "code",
      "source": [
        "# Siapkan warna dan label untuk plot\n",
        "colors = ('r', 'g', 'b')\n",
        "labels = ('Red', 'Green', 'Blue')\n",
        "\n",
        "plt.figure(figsize=(10, 6))\n",
        "plt.title('Histogram Warna (R, G, B)')\n",
        "plt.xlabel('Intensitas Piksel (0-255)')\n",
        "plt.ylabel('Frekuensi (Jumlah Piksel)')\n",
        "\n",
        "# Hitung dan plot histogram untuk setiap channel\n",
        "for i, color in enumerate(colors):\n",
        "    # cv2.calcHist([image], [channel_index], mask, [bins], [range])\n",
        "    hist = cv2.calcHist([img_rgb], [i], None, [256], [0, 256])\n",
        "    plt.plot(hist, color=color, label=labels[i])\n",
        "\n",
        "plt.legend()\n",
        "plt.grid(True)\n",
        "plt.show()"
      ],
      "metadata": {
        "id": "22XQa4-8KgCZ"
      },
      "id": "22XQa4-8KgCZ",
      "execution_count": null,
      "outputs": []
    },
    {
      "cell_type": "markdown",
      "source": [
        "**Analisis Histogram Warna :**\n",
        "\n",
        "Dari histogram warna terlihat bahwa channel hijau (Green) lebih dominan dibandingkan channel merah (Red) dan biru (Blue), terutama dengan puncak intensitas tinggi di sekitar nilai 120–130. Hal ini sesuai dengan gambar sunset yang banyak memuat warna langit dan awan bercampur dengan nuansa keemasan serta gradasi alami. Channel merah juga cukup kuat, terutama pada rentang intensitas tinggi, sehingga mendukung warna hangat dari cahaya matahari. Channel biru relatif lebih menyebar dengan distribusi signifikan di intensitas rendah hingga menengah, menggambarkan area langit biru dan bayangan.\n",
        "\n",
        "Kontras gambar cukup baik karena distribusi intensitas tidak hanya terkonsentrasi di satu titik, tetapi menyebar dari gelap (rendah) hingga terang (tinggi). Sebaran intensitas menunjukkan adanya variasi piksel pada area gelap (siluet perahu, awan tebal), area sedang (langit), hingga area terang (pantulan cahaya matahari), sehingga menghasilkan komposisi visual yang seimbang dan dramatis.\n",
        "\n",
        "---"
      ],
      "metadata": {
        "id": "CS1KturLk85U"
      },
      "id": "CS1KturLk85U"
    },
    {
      "cell_type": "markdown",
      "id": "45a74895",
      "metadata": {
        "id": "45a74895"
      },
      "source": [
        "### B5. Analisis Ringkas (Wajib)\n",
        "\n",
        "**Jawab pertanyaan berikut:**\n",
        "\n",
        "**Relasi histogram dengan kesan visual:** Apa hubungan antara pola histogram yang Anda lihat dengan kesan visual gambar (terang/gelap, warna dominan, kontras)?\n",
        "\n",
        "*Jawaban Anda:* Pola histogram menunjukkan bahwa warna hijau dan merah lebih dominan dibanding biru, sehingga mendukung kesan hangat pada gambar sunset. Sebaran intensitas yang merata dari gelap hingga terang menghasilkan kontras yang baik, sesuai dengan kesan visual gambar yang menampilkan siluet gelap, langit berwarna keemasan, dan area terang dari cahaya matahari.\n",
        "\n",
        "---"
      ]
    },
    {
      "cell_type": "markdown",
      "source": [
        "# Bagian C — Video\n",
        "\n",
        "### C1. Deskripsi Data\n",
        "\n",
        "**TODO:** Jelaskan video yang akan Anda analisis:\n",
        "- Jenis video: Pemandangan\n",
        "- Sumber: Rekaman Sendiri\n",
        "- Durasi target: 11 detik\n",
        "- Alasan pemilihan: Vidio Pemandangan dengan kualitas yang cukup bagus.\n",
        "\n",
        "**Path file:** `data/Pemandangan.mov`\n",
        "\n",
        "---\n",
        "\n",
        "### C2. TODO: Baca & Metadata\n",
        "\n",
        "**Instruksi:**\n",
        "Baca video dengan OpenCV dan tampilkan metadata:\n",
        "- Resolusi (Width × Height)\n",
        "- Frame rate (fps)\n",
        "- Jumlah total frame\n",
        "- Durasi (detik)\n",
        "- Klasifikasi resolusi (HD, Full HD, 4K, dll.)\n",
        "\n",
        "**Analisis yang diperlukan:**\n",
        "Jelaskan pentingnya parameter-parameter tersebut untuk analisis video atau aplikasi tertentu.\n"
      ],
      "metadata": {
        "id": "guEXdnmGmY8A"
      },
      "id": "guEXdnmGmY8A"
    },
    {
      "cell_type": "code",
      "source": [
        "# Path file video\n",
        "video_path = '/data/Pemandangan.mov'\n",
        "\n",
        "# Buka video dengan OpenCV\n",
        "cap = cv2.VideoCapture(video_path)\n",
        "\n",
        "# Periksa apakah video berhasil dibuka\n",
        "if not cap.isOpened():\n",
        "    print(f\"Error: Gagal membuka file video dari {video_path}. Pastikan file ada dan path benar.\")\n",
        "else:\n",
        "    # Ekstrak metadata\n",
        "    width = int(cap.get(cv2.CAP_PROP_FRAME_WIDTH))\n",
        "    height = int(cap.get(cv2.CAP_PROP_FRAME_HEIGHT))\n",
        "    fps = cap.get(cv2.CAP_PROP_FPS)\n",
        "    frame_count = int(cap.get(cv2.CAP_PROP_FRAME_COUNT))\n",
        "\n",
        "    # Hitung durasi hanya jika fps > 0\n",
        "    duration = 0\n",
        "    if fps > 0:\n",
        "        duration = frame_count / fps\n",
        "    else:\n",
        "        print(\"Warning: Frame rate (fps) adalah 0 atau tidak valid, durasi tidak dapat dihitung.\")\n",
        "\n",
        "\n",
        "    # Klasifikasi resolusi sederhana\n",
        "    if height >= 2160:\n",
        "        resolution_class = \"4K\"\n",
        "    elif height >= 1080:\n",
        "        resolution_class = \"Full HD\"\n",
        "    elif height >= 720:\n",
        "        resolution_class = \"HD\"\n",
        "    else:\n",
        "        resolution_class = \"SD\"\n",
        "\n",
        "    # Tampilkan metadata\n",
        "    print(\"--- Metadata Video ---\")\n",
        "    print(f\"Resolusi: {width} x {height}\")\n",
        "    print(f\"Frame Rate (FPS): {fps:.2f}\")\n",
        "    print(f\"Jumlah Total Frame: {frame_count}\")\n",
        "    print(f\"Durasi: {duration:.2f} detik\")\n",
        "    print(f\"Klasifikasi Resolusi: {resolution_class}\")\n",
        "\n",
        "    cap.release()"
      ],
      "metadata": {
        "id": "d1Z_ofMoL5Zw"
      },
      "id": "d1Z_ofMoL5Zw",
      "execution_count": null,
      "outputs": []
    },
    {
      "cell_type": "markdown",
      "source": [
        "**Analisis Parameter Video :**\n",
        "\n",
        "Parameter metadata video seperti resolusi, frame rate (FPS), jumlah frame, durasi, dan klasifikasi resolusi sangat penting untuk analisis maupun aplikasi tertentu. Resolusi menentukan ketajaman detail visual, sedangkan FPS memengaruhi kelancaran gerakan. Jumlah frame dan durasi memberikan gambaran banyaknya data yang harus diproses, sehingga berhubungan langsung dengan kebutuhan komputasi. Klasifikasi resolusi memudahkan dalam standar kualitas, misalnya membedakan SD, HD, hingga 4K. Kombinasi parameter-parameter ini membantu menyesuaikan antara kualitas visual, kebutuhan penyimpanan, dan performa aplikasi seperti streaming, computer vision, maupun analisis video berbasis AI.\n",
        "\n",
        "---"
      ],
      "metadata": {
        "id": "pudEFD-ynn1v"
      },
      "id": "pudEFD-ynn1v"
    },
    {
      "cell_type": "markdown",
      "source": [
        "### C3. TODO: Tampilkan 3 Frame (Awal–Tengah–Akhir)\n",
        "\n",
        "**Instruksi:**\n",
        "Ambil dan tampilkan 3 frame representatif:\n",
        "- Frame pertama (index 0)\n",
        "- Frame tengah (index ~total_frame/2)\n",
        "- Frame terakhir (index total_frame-1)\n",
        "- **Konversi BGR→RGB** sebelum ditampilkan\n",
        "- Subplot dengan judul frame dan timestamp\n",
        "\n",
        "**Analisis yang diperlukan:**\n",
        "Deskripsikan perbedaan visual antar frame dan apa yang dapat dipelajari dari sampel frame ini."
      ],
      "metadata": {
        "id": "ajCNq945oJc4"
      },
      "id": "ajCNq945oJc4"
    },
    {
      "cell_type": "code",
      "source": [
        "# Path file video\n",
        "video_path = '/data/Pemandangan.mov'\n",
        "\n",
        "# Buka video\n",
        "cap = cv2.VideoCapture(video_path)\n",
        "\n",
        "if not cap.isOpened():\n",
        "    print(f\"Error: Gagal membuka file video dari {video_path}. Pastikan file ada dan path benar.\")\n",
        "else:\n",
        "    # Dapatkan jumlah total frame\n",
        "    frame_count = int(cap.get(cv2.CAP_PROP_FRAME_COUNT))\n",
        "\n",
        "    # Hitung indeks frame awal, tengah, dan akhir\n",
        "    start_frame_idx = 0\n",
        "    middle_frame_idx = frame_count // 2\n",
        "    end_frame_idx = max(0, frame_count - 1)\n",
        "\n",
        "    frame_indices = [start_frame_idx, middle_frame_idx, end_frame_idx]\n",
        "    frames_to_display = [] # List untuk menyimpan frame yang berhasil dibaca\n",
        "    timestamps_to_display = [] # List untuk menyimpan timestamp frame yang berhasil dibaca\n",
        "    titles_to_display = [] # List untuk menyimpan judul frame\n",
        "\n",
        "    for idx in frame_indices:\n",
        "        # Atur posisi video ke frame yang diinginkan\n",
        "        cap.set(cv2.CAP_PROP_POS_FRAMES, idx)\n",
        "        ret, frame_bgr = cap.read()\n",
        "        if ret:\n",
        "            # Konversi BGR ke RGB dan simpan\n",
        "            frame_rgb = cv2.cvtColor(frame_bgr, cv2.COLOR_BGR2RGB)\n",
        "            frames_to_display.append(frame_rgb)\n",
        "            timestamps_to_display.append(idx / fps)\n",
        "\n",
        "            if idx == start_frame_idx:\n",
        "                titles_to_display.append('Frame Awal')\n",
        "            elif idx == middle_frame_idx:\n",
        "                 titles_to_display.append('Frame Tengah')\n",
        "            elif idx == end_frame_idx:\n",
        "                 titles_to_display.append('Frame Akhir')\n",
        "\n",
        "\n",
        "    cap.release()\n",
        "\n",
        "    # Tampilkan frame menggunakan subplot\n",
        "    if frames_to_display: # Cek apakah ada frame yang berhasil dibaca\n",
        "        fig, axes = plt.subplots(1, len(frames_to_display), figsize=(6 * len(frames_to_display), 6))\n",
        "\n",
        "        # Jika hanya ada 1 frame, axes bukan array, tangani kasus ini\n",
        "        if len(frames_to_display) == 1:\n",
        "            axes = [axes] # Ubah menjadi list agar loop bisa berjalan\n",
        "\n",
        "        for i, ax in enumerate(axes):\n",
        "            ax.imshow(frames_to_display[i])\n",
        "            ax.set_title(f\"{titles_to_display[i]} (t={timestamps_to_display[i]:.2f}s)\")\n",
        "            ax.axis('off')\n",
        "\n",
        "        plt.tight_layout()\n",
        "        plt.show()\n",
        "    else:\n",
        "        print(\"Tidak ada frame yang berhasil dibaca.\")"
      ],
      "metadata": {
        "id": "_Vc5wmqUM7xM"
      },
      "id": "_Vc5wmqUM7xM",
      "execution_count": null,
      "outputs": []
    },
    {
      "cell_type": "markdown",
      "source": [
        "**Analisis dari 3 frame tersebut :**\n",
        "\n",
        "Ketiga frame tersebut memperlihatkan perubahan sudut pandang dan cakupan pemandangan sepanjang video. Pada frame awal (t=0.00s) lebih menyorot area dekat dengan detail jalan, tanaman, dan objek di sekitar depan kamera. Frame tengah (t=5.42s) beralih ke pemandangan yang lebih luas dengan fokus pada pepohonan dan langit, sehingga memberikan kesan transisi ke area yang lebih terbuka. Sedangkan frame akhir (t=10.84s) menampilkan panorama luas dengan kombinasi hutan, langit cerah, dan latar belakang yang semakin jauh terlihat. Dari sampel ini dapat dipelajari bagaimana video menangkap pergeseran perspektif, transisi visual dari detail ke panorama, serta variasi pencahayaan dan komposisi yang memperkaya informasi untuk analisis konten visual.\n",
        "\n",
        "---"
      ],
      "metadata": {
        "id": "1-spyhnQon4y"
      },
      "id": "1-spyhnQon4y"
    },
    {
      "cell_type": "markdown",
      "id": "71782993",
      "metadata": {
        "id": "71782993"
      },
      "source": [
        "### C4. Analisis Ringkas (Wajib)\n",
        "\n",
        "**Jawab pertanyaan berikut:**\n",
        "\n",
        "**Kesesuaian parameter:** Apakah fps dan resolusi video ini sesuai untuk use case pilihan Anda (misalnya: media sosial, kuliah daring, presentasi, dll.)? Jelaskan alasan singkat.\n",
        "\n",
        "*Jawaban Anda:* Resolusi video Full HD (1080p) dengan fps sekitar 59.96 sudah sangat sesuai untuk use case seperti media sosial, kuliah daring, maupun presentasi, karena kualitas visualnya tajam dan pergerakan video terlihat halus tanpa patah-patah. Kombinasi ini memberikan keseimbangan antara detail gambar dan kelancaran gerakan, sehingga orang yang melihat video dapat menerima informasi dengan jelas serta nyaman dilihat di berbagai perangkat.\n",
        "\n",
        "---"
      ]
    },
    {
      "cell_type": "markdown",
      "id": "1fc93c9b",
      "metadata": {
        "id": "1fc93c9b"
      },
      "source": [
        "# Perbandingan & Kesimpulan\n",
        "\n",
        "## Perbandingan Representasi Media\n",
        "\n",
        "**TODO:** Bandingkan secara ringkas representasi dan visualisasi ketiga media:\n",
        "\n",
        "### Audio (1D - Temporal)\n",
        "- Representasi: Sinyal 1 dimensi berbasis waktu.\n",
        "- Visualisasi utama: Waveform, Spectrogram, dan MFCC.\n",
        "- Informasi yang diperoleh: Amplitudo terhadap waktu, distribusi frekuensi, pola suara, dan ciri khas audio (contoh: suara mobil).\n",
        "\n",
        "### Gambar (2D - Spasial)  \n",
        "- Representasi: Matriks piksel dengan dimensi tinggi × lebar × kanal warna.\n",
        "- Visualisasi utama: Histogram warna, dimensi gambar, distribusi intensitas piksel.\n",
        "- Informasi yang diperoleh: Warna dominan, kontras, sebaran intensitas cahaya, serta ukuran file.\n",
        "\n",
        "### Video (2D + Waktu - Spatio-temporal)\n",
        "- Representasi: Rangkaian frame (gambar) berurutan dalam dimensi waktu.\n",
        "- Visualisasi utama: Metadata (resolusi, fps, durasi), cuplikan frame kunci.\n",
        "- Informasi yang diperoleh: Kualitas visual (resolusi), kelancaran gerakan (fps), perubahan visual antar frame, dan konteks temporal dari sebuah adegan.\n",
        "\n",
        "---\n",
        "\n",
        "## Refleksi Pembelajaran\n",
        "\n",
        "### 3 Poin yang Saya Pelajari:\n",
        "1. Setiap media (audio, gambar, video) memiliki cara representasi dan visualisasi berbeda sesuai dimensinya.\n",
        "2. Analisis dasar seperti histogram, waveform, atau metadata sangat penting untuk preprocessing sebelum pemrosesan lebih lanjut.  \n",
        "3. Visualisasi membantu memahami karakteristik media yang tidak langsung terlihat, seperti frekuensi dominan pada audio atau distribusi warna pada gambar.\n",
        "\n",
        "### 2 Hal yang Masih Membingungkan/Ingin Diperdalam:\n",
        "1. Bagaimana teknik lanjutan ekstraksi fitur dari audio (misalnya untuk klasifikasi suara).\n",
        "2. Bagaimana cara yang paling optimal dalam penggunaan media dalam menyampaikan suatu informasi.\n",
        "\n",
        "---\n",
        "\n",
        "## Sumber Data & Referensi\n",
        "\n",
        "**TODO:** Cantumkan semua sumber data dan referensi yang digunakan:\n",
        "\n",
        "- **Audio:**  https://pixabay.com/id/sound-effects/search/mobil/\n",
        "- **Gambar:** Gambar Sendiri\n",
        "- **Video:** Rekaman Sendiri\n",
        "- **Referensi teknis:** https://g.co/gemini/share/5ada008f9820"
      ]
    },
    {
      "cell_type": "markdown",
      "id": "95f6dab1",
      "metadata": {
        "id": "95f6dab1"
      },
      "source": [
        "# Rubrik Penilaian\n",
        "\n",
        "## Distribusi Bobot Penilaian\n",
        "\n",
        "| **Aspek Penilaian** | **Bobot** | **Deskripsi** |\n",
        "|---|---|---|\n",
        "| **Kelengkapan** | **35%** | Semua langkah inti dikerjakan sesuai checklist |\n",
        "| **Kualitas Visualisasi** | **20%** | Judul, label sumbu, colorbar, legend, keterbacaan plot |\n",
        "| **Analisis & Interpretasi** | **30%** | Kemampuan interpretasi hasil, bukan sekadar output mentah |\n",
        "| **Kerapihan & Struktur** | **10%** | Markdown jelas, kode modular, dokumentasi baik |\n",
        "| **Orisinalitas & Penguasaan** | **5%** | Pemahaman saat presentasi acak |\n",
        "\n",
        "---\n",
        "\n",
        "## Detail Kriteria Penilaian\n",
        "\n",
        "### 🏆 Kelengkapan (35%)\n",
        "- ✅ Semua 4 visualisasi audio (metadata, waveform, spectrogram, MFCC)\n",
        "- ✅ Semua 3 visualisasi gambar (display RGB, metadata, histogram)  \n",
        "- ✅ Semua 2 visualisasi video (metadata, frame extraction)\n",
        "- ✅ Analisis ringkas untuk setiap bagian\n",
        "\n",
        "### 📊 Kualitas Visualisasi (20%)\n",
        "- Plot memiliki judul yang informatif dan deskriptif\n",
        "- Label sumbu X dan Y jelas dan sesuai\n",
        "- Colorbar/legend tersedia jika diperlukan\n",
        "- Ukuran plot proporsional dan mudah dibaca\n",
        "\n",
        "### 🧠 Analisis & Interpretasi (30%)\n",
        "- Interpretasi menunjukkan pemahaman konsep\n",
        "- Analisis kontekstual, bukan sekadar deskripsi output\n",
        "- Mampu menghubungkan hasil dengan teori\n",
        "- Refleksi pembelajaran yang thoughtful\n",
        "\n",
        "### 📝 Kerapihan & Struktur (10%)\n",
        "- Markdown terstruktur dengan heading yang konsisten\n",
        "- Kode bersih, terkompartemen, dan mudah dibaca\n",
        "- Dokumentasi yang memadai\n",
        "- Flow logical dari satu bagian ke bagian lain\n",
        "\n",
        "### 🎯 Orisinalitas & Penguasaan (5%)\n",
        "- **PENTING:** Jika saat presentasi acak Anda tidak mampu menjelaskan kode yang Anda tulis atau menunjukkan ketergantungan buta pada AI/copy-paste, **nilai tugas akan dianggap 0**.\n",
        "- Kemampuan menjelaskan logika dan alur pemikiran\n",
        "- Pemahaman konsep di balik implementasi kode\n",
        "\n",
        "## Proporsi Penilaian Total\n",
        "- Proporsi penilaian hanya 80%, 20% lagi akan didasarkan pada kecepatan pengumpulan tugas\n",
        "- Sehingga: 0.8 * penilaian dosen + nilai waktu pengumpulan"
      ]
    },
    {
      "cell_type": "markdown",
      "id": "1bd7066a",
      "metadata": {
        "id": "1bd7066a"
      },
      "source": [
        "# Aturan Kejujuran Akademik\n",
        "\n",
        "## 📖 Penggunaan Referensi & AI yang Diperbolehkan\n",
        "\n",
        "Anda **BOLEH** menggunakan:\n",
        "- ✅ Dokumentasi resmi library (NumPy, Matplotlib, Librosa, OpenCV)\n",
        "- ✅ Tutorial dan contoh kode dari sumber terpercaya\n",
        "- ✅ AI tools (ChatGPT, GitHub Copilot, dll.) sebagai **alat bantu pembelajaran**\n",
        "- ✅ Diskusi dengan teman untuk pemahaman konsep\n",
        "\n",
        "## ⚠️ Syarat & Batasan WAJIB\n",
        "\n",
        "Namun Anda **HARUS**:\n",
        "- 🧠 **Memahami setiap baris kode** yang Anda masukkan ke notebook\n",
        "- 📝 **Menulis interpretasi dengan kata-kata sendiri**, bukan hasil copy-paste\n",
        "- 📚 **Mencantumkan sumber data dan referensi** yang digunakan, termasuk transkrip percakapan dengan AI dalam link atau teks\n",
        "- 🎯 **Mampu menjelaskan logika dan alur pemikiran** saat presentasi acak\n",
        "\n",
        "## ❌ Pelanggaran yang Berakibat Nilai 0\n",
        "\n",
        "- **Plagiarisme atau penyalinan buta** dari sumber manapun\n",
        "- **Copy-paste kode tanpa pemahaman** dan tidak dapat menjelaskan\n",
        "- **Menggunakan AI untuk mengerjakan seluruh tugas** tanpa pembelajaran personal\n",
        "- **Tidak dapat menjawab pertanyaan dasar** tentang kode yang dikumpulkan\n",
        "- **Menyalin pekerjaan teman** atau bekerjasama dalam pengerjaan individual\n",
        "\n",
        "## 🎯 Persiapan Presentasi Acak\n",
        "\n",
        "**Kemungkinan pertanyaan yang akan ditanyakan:**\n",
        "- \"Jelaskan mengapa Anda menggunakan parameter ini di STFT?\"\n",
        "- \"Apa arti dari pola yang terlihat di MFCC?\"\n",
        "- \"Mengapa perlu konversi BGR ke RGB?\"\n",
        "- \"Interpretasikan hasil histogram yang Anda buat\"\n",
        "- \"Bagaimana cara kerja spectrogram?\"\n",
        "\n",
        "**Tips sukses:**\n",
        "- Pahami konsep dasar setiap teknik yang digunakan\n",
        "- Latih menjelaskan dengan bahasa sederhana\n",
        "- Siapkan justifikasi untuk setiap pilihan parameter\n",
        "- Kuasai interpretasi setiap visualisasi yang dibuat"
      ]
    },
    {
      "cell_type": "markdown",
      "id": "be806a09",
      "metadata": {
        "id": "be806a09"
      },
      "source": [
        "# Panduan Pengumpulan\n",
        "\n",
        "## 📁 Berkas yang Harus Dikumpulkan\n",
        "\n",
        "### Wajib:\n",
        "1. **Notebook Jupyter** (.ipynb) dengan nama: `NIM_Nama_TugasMultimedia.ipynb`\n",
        "   - Contoh: `123456789_JohnDoe_TugasMultimedia.ipynb`\n",
        "2. **PDF hasil render dari notebook**\n",
        "\n",
        "---\n",
        "\n",
        "## 📅 Informasi Pengumpulan\n",
        "\n",
        "---\n",
        "\n",
        "## ✅ Checklist Sebelum Submit\n",
        "\n",
        "- [ ] Semua cell sudah dijalankan dan menampilkan output\n",
        "- [ ] Nama file sesuai format: `NIM_Worksheet2.ipynb` dan `NIM_Worksheet2.pdf`\n",
        "- [ ] Semua TODO sudah diisi dengan lengkap\n",
        "- [ ] Analisis dan interpretasi sudah ditulis untuk setiap bagian\n",
        "- [ ] Sumber data dan referensi sudah dicantumkan\n",
        "\n",
        "---\n",
        "\n",
        "### Export ke PDF:\n",
        "- File → Save and Export Notebook As →  HTML\n",
        "- Buka HTML di browser -> Save as PDF"
      ]
    }
  ],
  "metadata": {
    "language_info": {
      "name": "python"
    },
    "colab": {
      "provenance": []
    },
    "kernelspec": {
      "name": "python3",
      "display_name": "Python 3"
    }
  },
  "nbformat": 4,
  "nbformat_minor": 5
}